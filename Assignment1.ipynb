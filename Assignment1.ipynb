{
  "nbformat": 4,
  "nbformat_minor": 0,
  "metadata": {
    "colab": {
      "provenance": [],
      "authorship_tag": "ABX9TyMUDP4x/+uTf/8lh9/Uz7wR",
      "include_colab_link": true
    },
    "kernelspec": {
      "name": "python3",
      "display_name": "Python 3"
    },
    "language_info": {
      "name": "python"
    }
  },
  "cells": [
    {
      "cell_type": "markdown",
      "metadata": {
        "id": "view-in-github",
        "colab_type": "text"
      },
      "source": [
        "<a href=\"https://colab.research.google.com/github/Niharika400/Assignment1.py/blob/main/Assignment1.ipynb\" target=\"_parent\"><img src=\"https://colab.research.google.com/assets/colab-badge.svg\" alt=\"Open In Colab\"/></a>"
      ]
    },
    {
      "cell_type": "markdown",
      "source": [
        " Q1.L is the list defined as L=[11,12,13,14]"
      ],
      "metadata": {
        "id": "TeLWtUlutVAv"
      }
    },
    {
      "cell_type": "code",
      "source": [
        "#WAP to add 50 and 60 in given list:\n",
        "L=[11,12,13,14]\n",
        "L.append(50)\n",
        "L.append(60)\n",
        "print(\"After adding 50 and 60  L is \",L)"
      ],
      "metadata": {
        "colab": {
          "base_uri": "https://localhost:8080/"
        },
        "id": "JG_BVNSVRMNL",
        "outputId": "5b4c9aff-fe9d-4b21-d417-dd930026bd57"
      },
      "execution_count": 24,
      "outputs": [
        {
          "output_type": "stream",
          "name": "stdout",
          "text": [
            "After adding 50 and 60  L is  [11, 12, 13, 14, 50, 60]\n"
          ]
        }
      ]
    },
    {
      "cell_type": "code",
      "source": [
        "#WAP to remove 11 and 13 from list:\n",
        "del L[0]\n",
        "\n",
        "print(\"After removing 11 L is\",L)\n",
        "del L[1]\n",
        "print(\"After removing 13 L is\",L)"
      ],
      "metadata": {
        "colab": {
          "base_uri": "https://localhost:8080/"
        },
        "id": "SNXdXfxtSKC1",
        "outputId": "92c122b9-a2c5-4aef-a64e-60760ffb0c05"
      },
      "execution_count": 25,
      "outputs": [
        {
          "output_type": "stream",
          "name": "stdout",
          "text": [
            "After removing 11 L is [12, 13, 14, 50, 60]\n",
            "After removing 13 L is [12, 14, 50, 60]\n"
          ]
        }
      ]
    },
    {
      "cell_type": "code",
      "source": [
        "#WAP to sort L in ascending order:\n",
        "L=[11,12,13,14]\n",
        "L.sort()\n",
        "print(\"After sorting L is:\",L)\n"
      ],
      "metadata": {
        "colab": {
          "base_uri": "https://localhost:8080/"
        },
        "id": "Mvp-cdzMT5c_",
        "outputId": "390acfde-29e5-4c4a-8a6c-1b7f0474180c"
      },
      "execution_count": 26,
      "outputs": [
        {
          "output_type": "stream",
          "name": "stdout",
          "text": [
            "After sorting L is: [11, 12, 13, 14]\n"
          ]
        }
      ]
    },
    {
      "cell_type": "code",
      "source": [
        "#WAP to sort L in descending order:\n",
        "L=[11,12,13,14]\n",
        "L.sort(reverse=True)\n",
        "print(\"After sorting L is:\",L)"
      ],
      "metadata": {
        "colab": {
          "base_uri": "https://localhost:8080/"
        },
        "id": "ynuTXvkkUTKw",
        "outputId": "9c947da3-ed5c-4468-c602-d9bf156df20f"
      },
      "execution_count": 28,
      "outputs": [
        {
          "output_type": "stream",
          "name": "stdout",
          "text": [
            "After sorting L is: [14, 13, 12, 11]\n"
          ]
        }
      ]
    },
    {
      "cell_type": "code",
      "source": [
        "#WAP to search for 13 in L:\n",
        "L=[11,12,13,14]\n",
        "\n",
        "print(\"Original list->\",13 in L)"
      ],
      "metadata": {
        "colab": {
          "base_uri": "https://localhost:8080/"
        },
        "id": "xD4vXiThUgT2",
        "outputId": "807e5043-383d-4949-b245-661407dfad6f"
      },
      "execution_count": 32,
      "outputs": [
        {
          "output_type": "stream",
          "name": "stdout",
          "text": [
            "Original list-> True\n"
          ]
        }
      ]
    },
    {
      "cell_type": "code",
      "source": [
        "#WAP to count number of elements present in L:\n",
        "L=[11,12,13,14]\n",
        "print(\"number of elements->\",len(L))\n",
        "\n"
      ],
      "metadata": {
        "colab": {
          "base_uri": "https://localhost:8080/"
        },
        "id": "BrCzXIqRVR-y",
        "outputId": "9aa7d6fc-0e2c-40f1-e0cf-1ce475d61278"
      },
      "execution_count": 57,
      "outputs": [
        {
          "output_type": "stream",
          "name": "stdout",
          "text": [
            "number of elements-> 4\n"
          ]
        }
      ]
    },
    {
      "cell_type": "code",
      "source": [
        "#WAP to sum all odd numbers in L:\n",
        "L=[11,12,13,14]\n",
        "sum=0\n",
        "for i in L:\n",
        "  if i%2!=0:\n",
        "    sum+=i\n",
        "print(sum)\n"
      ],
      "metadata": {
        "colab": {
          "base_uri": "https://localhost:8080/"
        },
        "id": "oA4-EOBlYCgs",
        "outputId": "261c08b3-21e2-4fa3-fba9-5207b00bcc58"
      },
      "execution_count": 68,
      "outputs": [
        {
          "output_type": "stream",
          "name": "stdout",
          "text": [
            "24\n"
          ]
        }
      ]
    },
    {
      "cell_type": "code",
      "source": [
        "#WAP to sum all even numbers in L:\n",
        "L=[11,12,13,14]\n",
        "sum=0\n",
        "for i in L:\n",
        "  if i%2==0:\n",
        "    sum+=i\n",
        "print(sum)"
      ],
      "metadata": {
        "colab": {
          "base_uri": "https://localhost:8080/"
        },
        "id": "qRhtg_HEcU3s",
        "outputId": "66c79a37-f079-43e3-fd67-107d7ea77456"
      },
      "execution_count": 70,
      "outputs": [
        {
          "output_type": "stream",
          "name": "stdout",
          "text": [
            "26\n"
          ]
        }
      ]
    },
    {
      "cell_type": "code",
      "source": [
        "#WAP to sum all prime numbers in L:\n",
        "L=[11,12,13,14]\n",
        "f=0\n",
        "sum=0\n",
        "for i in L:\n",
        "  if i%2==0:\n",
        "    f=1\n",
        "\n",
        "  else:\n",
        "    sum+=i\n",
        "print(sum)\n"
      ],
      "metadata": {
        "colab": {
          "base_uri": "https://localhost:8080/"
        },
        "id": "KQMaCVZqcxr4",
        "outputId": "ff8d7f05-dc10-448e-b165-620c1b0fa7cb"
      },
      "execution_count": 88,
      "outputs": [
        {
          "output_type": "stream",
          "name": "stdout",
          "text": [
            "24\n"
          ]
        }
      ]
    },
    {
      "cell_type": "code",
      "source": [
        "#WAP to clear all the elements in L:\n",
        "L=[11,12,13,14]\n",
        "L.clear()\n",
        "print(\"List after clearing \",L)"
      ],
      "metadata": {
        "colab": {
          "base_uri": "https://localhost:8080/"
        },
        "id": "in6g90ffeuQl",
        "outputId": "9faafccb-88bc-498e-aa25-ef38d828e0a5"
      },
      "execution_count": 94,
      "outputs": [
        {
          "output_type": "stream",
          "name": "stdout",
          "text": [
            "List after clearing  []\n"
          ]
        }
      ]
    },
    {
      "cell_type": "code",
      "source": [
        "#WAP to delete L:\n",
        "L=[11,12,13,14]\n",
        "del L\n",
        "# Trying to access the list,this will result in an error\n",
        "# print(L)"
      ],
      "metadata": {
        "id": "sH7B8WDafiCE"
      },
      "execution_count": 98,
      "outputs": []
    },
    {
      "cell_type": "markdown",
      "source": [
        "Q2.d is the dictionary defined as {1:5.6,2:7.8,3:6.6,4:8.7,5:7.7}"
      ],
      "metadata": {
        "id": "0fu1PdeYtahx"
      }
    },
    {
      "cell_type": "code",
      "source": [
        "#WAP to add key=8 and value 8.8:\n",
        "d={1:5.6,2:7.8,3:6.6,4:8.7,5:7.7}\n",
        "d[8]=8.8\n",
        "print(\"After adding d is :\",d)"
      ],
      "metadata": {
        "colab": {
          "base_uri": "https://localhost:8080/"
        },
        "id": "ysmkmv-bgbLE",
        "outputId": "31fcdea7-49f8-4b33-d415-d828ec435245"
      },
      "execution_count": 4,
      "outputs": [
        {
          "output_type": "stream",
          "name": "stdout",
          "text": [
            "After adding d is : {1: 5.6, 2: 7.8, 3: 6.6, 4: 8.7, 5: 7.7, 8: 8.8}\n"
          ]
        }
      ]
    },
    {
      "cell_type": "code",
      "source": [
        "#WAP to remove key=2:\n",
        "d={1:5.6,2:7.8,3:6.6,4:8.7,5:7.7}\n",
        "del d[2]\n",
        "print(\"after deleting d is\",d)"
      ],
      "metadata": {
        "colab": {
          "base_uri": "https://localhost:8080/"
        },
        "id": "-SlrMsmNY9Rc",
        "outputId": "dae4023b-396f-44c2-ddce-fa6970c549d8"
      },
      "execution_count": 6,
      "outputs": [
        {
          "output_type": "stream",
          "name": "stdout",
          "text": [
            "after deleting d is {1: 5.6, 3: 6.6, 4: 8.7, 5: 7.7}\n"
          ]
        }
      ]
    },
    {
      "cell_type": "code",
      "source": [
        "#WAP to check whether key 6 key is present or not:\n",
        "d={1:5.6,2:7.8,3:6.6,4:8.7,5:7.7}\n",
        "\n",
        "print(\"Checking whether 6 is present or not :\",d[6])#this will show an error as this key is not present in dictionary\n"
      ],
      "metadata": {
        "colab": {
          "base_uri": "https://localhost:8080/",
          "height": 176
        },
        "id": "9l2rbLkNZJyB",
        "outputId": "caf00b25-77a2-4c90-c884-efb1b6f949f3"
      },
      "execution_count": 13,
      "outputs": [
        {
          "output_type": "error",
          "ename": "KeyError",
          "evalue": "6",
          "traceback": [
            "\u001b[0;31m---------------------------------------------------------------------------\u001b[0m",
            "\u001b[0;31mKeyError\u001b[0m                                  Traceback (most recent call last)",
            "\u001b[0;32m<ipython-input-13-198dfdda85da>\u001b[0m in \u001b[0;36m<cell line: 4>\u001b[0;34m()\u001b[0m\n\u001b[1;32m      2\u001b[0m \u001b[0md\u001b[0m\u001b[0;34m=\u001b[0m\u001b[0;34m{\u001b[0m\u001b[0;36m1\u001b[0m\u001b[0;34m:\u001b[0m\u001b[0;36m5.6\u001b[0m\u001b[0;34m,\u001b[0m\u001b[0;36m2\u001b[0m\u001b[0;34m:\u001b[0m\u001b[0;36m7.8\u001b[0m\u001b[0;34m,\u001b[0m\u001b[0;36m3\u001b[0m\u001b[0;34m:\u001b[0m\u001b[0;36m6.6\u001b[0m\u001b[0;34m,\u001b[0m\u001b[0;36m4\u001b[0m\u001b[0;34m:\u001b[0m\u001b[0;36m8.7\u001b[0m\u001b[0;34m,\u001b[0m\u001b[0;36m5\u001b[0m\u001b[0;34m:\u001b[0m\u001b[0;36m7.7\u001b[0m\u001b[0;34m}\u001b[0m\u001b[0;34m\u001b[0m\u001b[0;34m\u001b[0m\u001b[0m\n\u001b[1;32m      3\u001b[0m \u001b[0;34m\u001b[0m\u001b[0m\n\u001b[0;32m----> 4\u001b[0;31m \u001b[0mprint\u001b[0m\u001b[0;34m(\u001b[0m\u001b[0;34m\"Checking whether 6 is present or not :\"\u001b[0m\u001b[0;34m,\u001b[0m\u001b[0md\u001b[0m\u001b[0;34m[\u001b[0m\u001b[0;36m6\u001b[0m\u001b[0;34m]\u001b[0m\u001b[0;34m)\u001b[0m\u001b[0;31m#this will show an error as this key is not present in dictionary\u001b[0m\u001b[0;34m\u001b[0m\u001b[0;34m\u001b[0m\u001b[0m\n\u001b[0m",
            "\u001b[0;31mKeyError\u001b[0m: 6"
          ]
        }
      ]
    },
    {
      "cell_type": "code",
      "source": [
        "#WAP to count number of elements present in d:\n",
        "d={1:5.6,2:7.8,3:6.6,4:8.7,5:7.7}\n",
        "print(\"NUMBER OD ELEMENTS:\",len(d))\n"
      ],
      "metadata": {
        "colab": {
          "base_uri": "https://localhost:8080/"
        },
        "id": "r1m_cimXaIwQ",
        "outputId": "8b6b01c5-abda-476d-a087-64ce7e6f8531"
      },
      "execution_count": 14,
      "outputs": [
        {
          "output_type": "stream",
          "name": "stdout",
          "text": [
            "NUMBER OD ELEMENTS: 5\n"
          ]
        }
      ]
    },
    {
      "cell_type": "code",
      "source": [
        "#WAP to add all the values present in d:\n",
        "d={1:5.6,2:7.8,3:6.6,4:8.7,5:7.7}\n",
        "sum=0\n",
        "for i in d:\n",
        "  sum=sum+d[i]\n",
        "print(\"Sum of values:\",sum)"
      ],
      "metadata": {
        "colab": {
          "base_uri": "https://localhost:8080/"
        },
        "id": "by1bAsDvaze9",
        "outputId": "7e73e3c3-cebc-40f5-a31f-2c88557bdf5e"
      },
      "execution_count": 18,
      "outputs": [
        {
          "output_type": "stream",
          "name": "stdout",
          "text": [
            "Sum of values: 36.4\n"
          ]
        }
      ]
    },
    {
      "cell_type": "code",
      "source": [
        "#WAP to update value of 3 to 7.1:\n",
        "d={1:5.6,2:7.8,3:6.6,4:8.7,5:7.7}\n",
        "d[3]=7.1\n",
        "print(\"After updating :\",d)\n"
      ],
      "metadata": {
        "colab": {
          "base_uri": "https://localhost:8080/"
        },
        "id": "lGA4sYhScIbT",
        "outputId": "d458944b-5292-48f2-9b7b-32d6141a1c2a"
      },
      "execution_count": 20,
      "outputs": [
        {
          "output_type": "stream",
          "name": "stdout",
          "text": [
            "After updating : {1: 5.6, 2: 7.8, 3: 7.1, 4: 8.7, 5: 7.7}\n"
          ]
        }
      ]
    },
    {
      "cell_type": "code",
      "source": [
        "#WAP to clear dictionary:\n",
        "d={1:5.6,2:7.8,3:6.6,4:8.7,5:7.7}\n",
        "d.clear()\n",
        "print(d)"
      ],
      "metadata": {
        "colab": {
          "base_uri": "https://localhost:8080/"
        },
        "id": "u2fivmfocavF",
        "outputId": "56f3996f-3907-4a26-d342-cd53a3c86c38"
      },
      "execution_count": 21,
      "outputs": [
        {
          "output_type": "stream",
          "name": "stdout",
          "text": [
            "{}\n"
          ]
        }
      ]
    },
    {
      "cell_type": "markdown",
      "source": [
        "Q3.S1 is the set defined as[10,20,30,40,50,60]\n",
        "\n",
        "   S2 is the set defined as=[40,50,60,70,80,90]"
      ],
      "metadata": {
        "id": "2EH8gMVBtdw2"
      }
    },
    {
      "cell_type": "code",
      "source": [
        "#WAP to add 55 and 66 in S1:\n",
        "S1=set([10,20,30,40,50,60])\n",
        "S2=set([40,50,60,70,80,90])\n",
        "S1.add(55)\n",
        "S1.add(66)\n",
        "print(\"Set->\",S1)\n"
      ],
      "metadata": {
        "colab": {
          "base_uri": "https://localhost:8080/"
        },
        "id": "Tz4rQD0BdQkX",
        "outputId": "a039d837-9af4-4d15-9f3a-7f53c1c3b89d"
      },
      "execution_count": 24,
      "outputs": [
        {
          "output_type": "stream",
          "name": "stdout",
          "text": [
            "Set-> {66, 40, 10, 50, 20, 55, 60, 30}\n"
          ]
        }
      ]
    },
    {
      "cell_type": "code",
      "source": [
        "#WAP to remove 10 and 30 from S1:\n",
        "S1.remove(10)\n",
        "S1.remove(30)\n",
        "print(\"set is:\",S1)"
      ],
      "metadata": {
        "colab": {
          "base_uri": "https://localhost:8080/"
        },
        "id": "NohWiNbaqT6n",
        "outputId": "f6e02ded-1dce-4065-da0a-a842141d869d"
      },
      "execution_count": 25,
      "outputs": [
        {
          "output_type": "stream",
          "name": "stdout",
          "text": [
            "set is: {66, 40, 50, 20, 55, 60}\n"
          ]
        }
      ]
    },
    {
      "cell_type": "code",
      "source": [
        "#WAP to check whether 30 is  present in S1:\n",
        "S1=set([10,20,30,40,50,60])\n",
        "S2=set([40,50,60,70,80,90])\n",
        "if 30 in S1:\n",
        "  print(\"found\")\n",
        "else:\n",
        "  print(\"not found\")\n"
      ],
      "metadata": {
        "colab": {
          "base_uri": "https://localhost:8080/"
        },
        "id": "Yzo9zxjXqtPi",
        "outputId": "c2a162a9-c36f-4149-ff61-72cb2363dd9d"
      },
      "execution_count": 31,
      "outputs": [
        {
          "output_type": "stream",
          "name": "stdout",
          "text": [
            "found\n"
          ]
        }
      ]
    },
    {
      "cell_type": "code",
      "source": [
        "#WAP to find union and intersection between S1 and S2:\n",
        "S1=set([10,20,30,40,50,60])\n",
        "S2=set([40,50,60,70,80,90])\n",
        "print(\"Union is:\",S1.union(S2))\n",
        "print(\"Intersection is:\",S1.intersection(S2))"
      ],
      "metadata": {
        "colab": {
          "base_uri": "https://localhost:8080/"
        },
        "id": "H8TtyNtPr8Wc",
        "outputId": "af557301-4e59-4dc3-ea1a-9e045fc22a28"
      },
      "execution_count": 33,
      "outputs": [
        {
          "output_type": "stream",
          "name": "stdout",
          "text": [
            "Union is: {70, 40, 10, 80, 50, 20, 90, 60, 30}\n",
            "Intersection is: {40, 50, 60}\n"
          ]
        }
      ]
    },
    {
      "cell_type": "code",
      "source": [
        "#WAP to find S1-S2:\n",
        "S1=set([10,20,30,40,50,60])\n",
        "S2=set([40,50,60,70,80,90])\n",
        "print(\"difference is:\",S1-S2)"
      ],
      "metadata": {
        "colab": {
          "base_uri": "https://localhost:8080/"
        },
        "id": "x8JY0s6LsLqk",
        "outputId": "8062bcee-f21c-46e8-e5e2-1bfd2489d67a"
      },
      "execution_count": 34,
      "outputs": [
        {
          "output_type": "stream",
          "name": "stdout",
          "text": [
            "difference is: {10, 20, 30}\n"
          ]
        }
      ]
    },
    {
      "cell_type": "markdown",
      "source": [
        "Q4.WAP to print 100 random strings whose length between 6 and 8."
      ],
      "metadata": {
        "id": "mWEeV14BtgyS"
      }
    },
    {
      "cell_type": "code",
      "source": [
        "import random as r\n",
        "import string as s\n",
        "for i in range(100):\n",
        "    length = r.randint(6, 8)\n",
        "    random_string = ''.join(r.sample(s.ascii_letters, k=length))\n",
        "    print(random_string)"
      ],
      "metadata": {
        "colab": {
          "base_uri": "https://localhost:8080/"
        },
        "id": "JJMsb_bZtzTu",
        "outputId": "c47f221b-d092-46c1-c9d7-fb20b32ed314"
      },
      "execution_count": 47,
      "outputs": [
        {
          "output_type": "stream",
          "name": "stdout",
          "text": [
            "CtQJHSO\n",
            "PqDbGwdc\n",
            "nTSQvlJ\n",
            "pLrvlf\n",
            "ebOwfIL\n",
            "uhEjHelZ\n",
            "JkxSHg\n",
            "rGNeCDP\n",
            "jwcbilD\n",
            "teqXbQdj\n",
            "rtblOL\n",
            "OnGhKcN\n",
            "vEsnFw\n",
            "QWwHCAcD\n",
            "mHUQqJr\n",
            "ShgdQHRK\n",
            "HtXePz\n",
            "XDhaSVBe\n",
            "ZgYVTOsk\n",
            "SLOABDuZ\n",
            "RoyCtcq\n",
            "CaGOPku\n",
            "xktAmOw\n",
            "XkgDHf\n",
            "WRAVLeo\n",
            "YOGPJjws\n",
            "XnTzuvMh\n",
            "chQySx\n",
            "qNhJDaTu\n",
            "btSViRpf\n",
            "LdTkAl\n",
            "dPVxvq\n",
            "AOWblR\n",
            "PHACnw\n",
            "NTVcsiQ\n",
            "IUWpCEYt\n",
            "RSAZIXBw\n",
            "jyYhCb\n",
            "oNAjuxaF\n",
            "bFSyXvU\n",
            "ucMkEV\n",
            "MliSps\n",
            "BKigcAdj\n",
            "ThDiytKH\n",
            "VbKQqu\n",
            "qNxbhX\n",
            "BFbTXwR\n",
            "UgSYwRo\n",
            "gGviENO\n",
            "gnxAwX\n",
            "xrALBIsf\n",
            "ljvNoLw\n",
            "LbXhDgeV\n",
            "fkcZxl\n",
            "wKdleM\n",
            "cxFhUABk\n",
            "sUFJlLNm\n",
            "ZTPauY\n",
            "OHXlSW\n",
            "QnzXbweO\n",
            "pNJwUlo\n",
            "ecqPbzQl\n",
            "fjrOXMtR\n",
            "ykhZMpTv\n",
            "GlwdFmR\n",
            "DIKalS\n",
            "BslHCQmk\n",
            "IVCbXK\n",
            "RIbvymK\n",
            "nIFOte\n",
            "jEaJlvns\n",
            "yjWwVBk\n",
            "SxLGyDa\n",
            "BDZOaw\n",
            "LJQghds\n",
            "AFNEjKtv\n",
            "RIdbhJG\n",
            "hyTXVZWE\n",
            "OHyCQo\n",
            "LwYRmil\n",
            "WKlBbit\n",
            "lQsjCIYJ\n",
            "tqZncLED\n",
            "SBcWzh\n",
            "Uwdcbtsg\n",
            "UuYpwN\n",
            "oDUejiYA\n",
            "tXbKiMwS\n",
            "ZKkXavel\n",
            "LbcWVXj\n",
            "nFsNZVd\n",
            "qIbLjld\n",
            "GnoYXL\n",
            "KFgRqi\n",
            "bwLBMtv\n",
            "CzYkpsfv\n",
            "KJxHwsak\n",
            "MvhjIb\n",
            "MSftcsum\n",
            "NaoTuK\n"
          ]
        }
      ]
    },
    {
      "cell_type": "markdown",
      "source": [
        "Q5.WAP to print all prime numbers between 600 and 800."
      ],
      "metadata": {
        "id": "QSdYdIX91JZ-"
      }
    },
    {
      "cell_type": "code",
      "source": [
        "\n",
        "for num in range(600, 801):\n",
        "        for i in range(2, num//2+1):\n",
        "            if (num % i) == 0:\n",
        "                break\n",
        "        else:\n",
        "            print(num)\n"
      ],
      "metadata": {
        "colab": {
          "base_uri": "https://localhost:8080/"
        },
        "id": "ojvJF0tl1BuW",
        "outputId": "37d3544d-dce0-4f2d-bf9f-703d6738322a"
      },
      "execution_count": 7,
      "outputs": [
        {
          "output_type": "stream",
          "name": "stdout",
          "text": [
            "601\n",
            "607\n",
            "613\n",
            "617\n",
            "619\n",
            "631\n",
            "641\n",
            "643\n",
            "647\n",
            "653\n",
            "659\n",
            "661\n",
            "673\n",
            "677\n",
            "683\n",
            "691\n",
            "701\n",
            "709\n",
            "719\n",
            "727\n",
            "733\n",
            "739\n",
            "743\n",
            "751\n",
            "757\n",
            "761\n",
            "769\n",
            "773\n",
            "787\n",
            "797\n"
          ]
        }
      ]
    },
    {
      "cell_type": "markdown",
      "source": [
        "Q6.WAP to print all numbers between 100 and 1000 that are divisible by 7 and 9."
      ],
      "metadata": {
        "id": "IUxtMY6vS7uo"
      }
    },
    {
      "cell_type": "code",
      "source": [
        "for num in range(100,1000):\n",
        "\n",
        "    if num%7==0 and num%9==0:\n",
        "      print(num)\n"
      ],
      "metadata": {
        "colab": {
          "base_uri": "https://localhost:8080/"
        },
        "id": "VZZQF1QvS6Ef",
        "outputId": "cc6af8d3-35da-476c-8b84-028c57e49a12"
      },
      "execution_count": 9,
      "outputs": [
        {
          "output_type": "stream",
          "name": "stdout",
          "text": [
            "126\n",
            "189\n",
            "252\n",
            "315\n",
            "378\n",
            "441\n",
            "504\n",
            "567\n",
            "630\n",
            "693\n",
            "756\n",
            "819\n",
            "882\n",
            "945\n"
          ]
        }
      ]
    },
    {
      "cell_type": "markdown",
      "source": [
        "Q7.WAP to create two lists of 10 random numbers between 10 and 30.find,"
      ],
      "metadata": {
        "id": "2ohbSGDHUaqN"
      }
    },
    {
      "cell_type": "code",
      "source": [
        "#common  numbers between two list:\n",
        "import random as r\n",
        "L1=[r.randint(10,30) for i in range(10)]\n",
        "L2=[r.randint(10,30) for i in range(10)]\n",
        "common=list(set(L1) & set(L2))\n",
        "print(L1)\n",
        "print(L2)\n",
        "print(\"common numbers ->\",common)\n",
        "\n"
      ],
      "metadata": {
        "colab": {
          "base_uri": "https://localhost:8080/"
        },
        "id": "snyLCaAoUz2w",
        "outputId": "73dfc3f4-c3bf-43b1-aa76-02cecdd1f5d9"
      },
      "execution_count": 12,
      "outputs": [
        {
          "output_type": "stream",
          "name": "stdout",
          "text": [
            "[15, 24, 14, 18, 20, 30, 17, 30, 12, 30]\n",
            "[27, 22, 25, 26, 29, 18, 22, 11, 17, 15]\n",
            "common numbers -> [17, 18, 15]\n"
          ]
        }
      ]
    },
    {
      "cell_type": "code",
      "source": [
        "#unique numbers between two list:\n",
        "unique=list(set(L1) | set(L2))\n",
        "print(\"unique numbers are->\",unique)"
      ],
      "metadata": {
        "colab": {
          "base_uri": "https://localhost:8080/"
        },
        "id": "K0Lt9F20XZao",
        "outputId": "567c1230-e8fc-4774-86fe-f8c944e85305"
      },
      "execution_count": 13,
      "outputs": [
        {
          "output_type": "stream",
          "name": "stdout",
          "text": [
            "unique numbers are-> [11, 12, 14, 15, 17, 18, 20, 22, 24, 25, 26, 27, 29, 30]\n"
          ]
        }
      ]
    },
    {
      "cell_type": "code",
      "source": [
        "#minimum numbers in both the list:\n",
        "minimum=min(min(L1),min(L2))\n",
        "print(\"minimum number ->\",minimum)\n"
      ],
      "metadata": {
        "colab": {
          "base_uri": "https://localhost:8080/"
        },
        "id": "nNkoHkuJX0ff",
        "outputId": "9da97288-1daf-49a6-ad2e-e9aaa35276ac"
      },
      "execution_count": 16,
      "outputs": [
        {
          "output_type": "stream",
          "name": "stdout",
          "text": [
            "minimum number -> 11\n"
          ]
        }
      ]
    },
    {
      "cell_type": "code",
      "source": [
        "#maximum numbers in both the list:\n",
        "maximum=max(max(L1),max(L2))\n",
        "print(\"maximum number ->\",maximum)"
      ],
      "metadata": {
        "colab": {
          "base_uri": "https://localhost:8080/"
        },
        "id": "cvA0RVsaYb4r",
        "outputId": "37e4e768-8d71-4477-997a-4ec939a633dc"
      },
      "execution_count": 17,
      "outputs": [
        {
          "output_type": "stream",
          "name": "stdout",
          "text": [
            "maximum number -> 30\n"
          ]
        }
      ]
    },
    {
      "cell_type": "code",
      "source": [
        "#sum of both the list:\n",
        "sum=sum(L1)+sum(L2)\n",
        "print(\"sum is->\",sum)"
      ],
      "metadata": {
        "colab": {
          "base_uri": "https://localhost:8080/"
        },
        "id": "qSJQTCyPYmds",
        "outputId": "a0a4771c-f10a-4a3b-ef56-d3473654125d"
      },
      "execution_count": 18,
      "outputs": [
        {
          "output_type": "stream",
          "name": "stdout",
          "text": [
            "sum is-> 422\n"
          ]
        }
      ]
    },
    {
      "cell_type": "markdown",
      "source": [
        "Q8.WAP to create a list of 100 random numbers between 100and 900.count and print the list:\n"
      ],
      "metadata": {
        "id": "ABqzxKgwbFLP"
      }
    },
    {
      "cell_type": "code",
      "source": [
        "#all odd numbers:\n",
        "import random as r\n",
        "l1=[r.randint(100,900) for i in range(100)]\n",
        "odd_num = [num for num in l1 if num % 2 != 0]\n",
        "count = len(odd_num)\n",
        "\n",
        "print(\"List of 100 random numbers between 100 and 900:\",l1)\n",
        "print(\"Count of odd numbers:\", count)\n",
        "print(\"List of all odd numbers:\",odd_num)\n"
      ],
      "metadata": {
        "colab": {
          "base_uri": "https://localhost:8080/"
        },
        "id": "HYaGQwPdbRqS",
        "outputId": "afc1a5d1-f11f-43e6-d8a7-ab683b4c9981"
      },
      "execution_count": 24,
      "outputs": [
        {
          "output_type": "stream",
          "name": "stdout",
          "text": [
            "List of 100 random numbers between 100 and 900: [124, 876, 114, 374, 445, 460, 208, 794, 451, 663, 686, 711, 266, 317, 344, 389, 531, 144, 107, 848, 627, 178, 326, 188, 528, 386, 368, 124, 641, 468, 376, 452, 403, 793, 458, 442, 222, 449, 766, 580, 768, 642, 530, 537, 789, 714, 107, 318, 137, 553, 230, 116, 176, 630, 863, 454, 420, 321, 802, 171, 459, 128, 673, 584, 649, 136, 315, 713, 604, 290, 520, 172, 273, 642, 785, 326, 628, 421, 892, 162, 867, 569, 176, 859, 496, 420, 123, 778, 731, 575, 143, 133, 374, 383, 736, 438, 617, 324, 895, 878]\n",
            "Count of odd numbers: 40\n",
            "List of all odd numbers: [445, 451, 663, 711, 317, 389, 531, 107, 627, 641, 403, 793, 449, 537, 789, 107, 137, 553, 863, 321, 171, 459, 673, 649, 315, 713, 273, 785, 421, 867, 569, 859, 123, 731, 575, 143, 133, 383, 617, 895]\n"
          ]
        }
      ]
    },
    {
      "cell_type": "code",
      "source": [
        "#all even numbers:\n",
        "import random as r\n",
        "l1=[r.randint(100,900) for i in range(100)]\n",
        "even_num = [num for num in l1 if num % 2 == 0]\n",
        "count = len(even_num)\n",
        "\n",
        "print(\"List of 100 random numbers between 100 and 900:\",l1)\n",
        "print(\"Count of even numbers:\", count)\n",
        "print(\"List of all even numbers:\",even_num)"
      ],
      "metadata": {
        "colab": {
          "base_uri": "https://localhost:8080/"
        },
        "id": "YqUFRAxGdErd",
        "outputId": "099795be-1d9f-4e08-e6f9-0ac922103b5d"
      },
      "execution_count": 25,
      "outputs": [
        {
          "output_type": "stream",
          "name": "stdout",
          "text": [
            "List of 100 random numbers between 100 and 900: [782, 757, 329, 466, 244, 148, 594, 284, 445, 738, 830, 127, 512, 693, 246, 354, 114, 362, 101, 391, 510, 638, 503, 649, 729, 875, 490, 278, 275, 898, 805, 349, 460, 128, 605, 185, 849, 890, 685, 197, 704, 782, 118, 679, 652, 799, 378, 692, 608, 587, 506, 140, 361, 474, 199, 702, 469, 454, 414, 258, 692, 283, 527, 560, 585, 295, 158, 344, 341, 442, 428, 219, 820, 581, 778, 729, 409, 706, 366, 270, 438, 709, 655, 212, 699, 810, 532, 155, 140, 852, 735, 451, 416, 869, 767, 391, 489, 253, 138, 137]\n",
            "Count of even numbers: 54\n",
            "List of all even numbers: [782, 466, 244, 148, 594, 284, 738, 830, 512, 246, 354, 114, 362, 510, 638, 490, 278, 898, 460, 128, 890, 704, 782, 118, 652, 378, 692, 608, 506, 140, 474, 702, 454, 414, 258, 692, 560, 158, 344, 442, 428, 820, 778, 706, 366, 270, 438, 212, 810, 532, 140, 852, 416, 138]\n"
          ]
        }
      ]
    },
    {
      "cell_type": "code",
      "source": [
        "from ast import JoinedStr\n",
        "#all prime numbers:\n",
        "import random as r\n",
        "l1=[r.randint(100,900) for i in range(100)]\n",
        "prime_num=[]\n",
        "for num in l1:\n",
        "\n",
        "    if num > 1:\n",
        "        is_prime = True\n",
        "        for i in range(2, int(num**0.5) + 1):\n",
        "            if num % i == 0:\n",
        "                is_prime = False\n",
        "                break\n",
        "        if is_prime:\n",
        "            prime_num.append(num)\n",
        "\n",
        "\n",
        "\n",
        "print(\"List of 100 random numbers between 100 and 900:\",l1)\n",
        "print(\"List of all prime numbers:\",prime_num)\n",
        "print(\"count->\",len(prime_num))"
      ],
      "metadata": {
        "colab": {
          "base_uri": "https://localhost:8080/"
        },
        "id": "Gaq_s5PAdUn5",
        "outputId": "35f4e669-d013-4968-e154-6494f691b6b2"
      },
      "execution_count": 34,
      "outputs": [
        {
          "output_type": "stream",
          "name": "stdout",
          "text": [
            "List of 100 random numbers between 100 and 900: [263, 681, 484, 481, 878, 349, 617, 804, 745, 861, 610, 149, 293, 506, 163, 733, 451, 900, 887, 558, 390, 454, 503, 626, 712, 698, 474, 122, 460, 279, 387, 640, 218, 541, 565, 273, 479, 691, 881, 405, 462, 730, 851, 839, 738, 293, 538, 275, 730, 782, 342, 635, 187, 599, 626, 163, 219, 447, 579, 442, 139, 151, 811, 725, 279, 383, 806, 770, 589, 806, 646, 737, 511, 636, 767, 338, 451, 594, 455, 224, 332, 259, 471, 404, 439, 397, 819, 189, 525, 663, 882, 550, 395, 114, 851, 566, 637, 153, 534, 183]\n",
            "List of all prime numbers: [263, 349, 617, 149, 293, 163, 733, 887, 503, 541, 479, 691, 881, 839, 293, 599, 163, 139, 151, 811, 383, 439, 397]\n",
            "count-> 23\n"
          ]
        }
      ]
    },
    {
      "cell_type": "markdown",
      "source": [
        "Q9. D is a dictionary defined as D={1:\"One\",2:\"Two\",3:\"Three\",4:\"Four\", 5:\"Five\"}.\n",
        " WAP to read all the keys and values from dictionary and write to the file"
      ],
      "metadata": {
        "id": "OMS_CiODgbmJ"
      }
    },
    {
      "cell_type": "code",
      "source": [
        "D={1:\"One\",2:\"Two\",3:\"Three\",4:\"Four\", 5:\"Five\"}\n",
        "with open(\"dictionary.txt\",\"w\") as file:\n",
        "  for key,value in D.items():\n",
        "    file.write(f\"key:{key},value:{value}\\n\")\n",
        "print(\"operation completed\")"
      ],
      "metadata": {
        "colab": {
          "base_uri": "https://localhost:8080/"
        },
        "id": "P92KEwungfx2",
        "outputId": "af67ce97-c6fb-4e43-fda0-78864606b3af"
      },
      "execution_count": 39,
      "outputs": [
        {
          "output_type": "stream",
          "name": "stdout",
          "text": [
            "operation completed\n"
          ]
        }
      ]
    },
    {
      "cell_type": "markdown",
      "source": [
        "Q10.. L is a list defined as L={\"One\",\"Two\",\"Three\",\"Four\",\"Five\"}.\n",
        " WAP to count the length of reach element from a list and write to the file in the given below format:\n",
        "\n",
        "One, 3\n",
        "\n",
        "Two, 3\n",
        "\n",
        "Four, 4\n"
      ],
      "metadata": {
        "id": "tipFT4onrsBm"
      }
    },
    {
      "cell_type": "code",
      "source": [
        "L=[\"One\",\"Two\",\"Three\",\"Four\",\"Five\"]\n",
        "with open(\"list.txt\",\"w\") as file:\n",
        "  for element in L:\n",
        "\n",
        "    file.write(f\"{element},len{element}\")\n",
        "print(\"operation completed\")"
      ],
      "metadata": {
        "colab": {
          "base_uri": "https://localhost:8080/"
        },
        "id": "nABXe8Earv1z",
        "outputId": "415fa33e-a98d-48f5-bcfb-9e42c810d675"
      },
      "execution_count": 41,
      "outputs": [
        {
          "output_type": "stream",
          "name": "stdout",
          "text": [
            "operation completed\n"
          ]
        }
      ]
    },
    {
      "cell_type": "markdown",
      "source": [
        " Q11.Write to the file 100 random strings whose length between 10 and 15"
      ],
      "metadata": {
        "id": "tlFNkTZhsz3T"
      }
    },
    {
      "cell_type": "code",
      "source": [
        "import random as r\n",
        "import string as s\n",
        "with open(\"random_strng.txt\",\"w\") as file:\n",
        "  for i in range(100):\n",
        "    len=r.randint(10,15)\n",
        "    random_strng = ''.join(r.sample(s.ascii_letters , k=len))\n",
        "\n",
        "    file.write(f\"{random_strng}\\n\")\n",
        "\n",
        "print(\"100 random strings have been written to 'random_strng.txt'.\")"
      ],
      "metadata": {
        "colab": {
          "base_uri": "https://localhost:8080/"
        },
        "id": "V3owdAdWs3SR",
        "outputId": "e8d143c9-e8b7-4e2d-be84-29e815c10aca"
      },
      "execution_count": 45,
      "outputs": [
        {
          "output_type": "stream",
          "name": "stdout",
          "text": [
            "100 random strings have been written to 'random_strng.txt'.\n"
          ]
        }
      ]
    },
    {
      "cell_type": "markdown",
      "source": [
        "Q12. Write to the file all prime numbers between 600 and 800."
      ],
      "metadata": {
        "id": "3F8q-PfQuq5E"
      }
    },
    {
      "cell_type": "code",
      "source": [
        "import string as s\n",
        "import random as r\n",
        "with open(\"prime_num.txt\",\"w\") as file:\n",
        "  for num in range(600,800):\n",
        "    for i in range(2,num//2+1):\n",
        "      if num%i==0:\n",
        "        break;\n",
        "  file.write(f\"{num}\")\n",
        "print(\"All prime numbers have been written to prime_num.txt.\")\n"
      ],
      "metadata": {
        "colab": {
          "base_uri": "https://localhost:8080/"
        },
        "id": "DAiBfbY-uyi2",
        "outputId": "068a024c-4c15-46f2-f97e-e0b2e0a69c8e"
      },
      "execution_count": 46,
      "outputs": [
        {
          "output_type": "stream",
          "name": "stdout",
          "text": [
            "All prime numbers have been written to prime_num.txt.\n"
          ]
        }
      ]
    },
    {
      "cell_type": "markdown",
      "source": [
        "Q13.WAP to calculate the time taken by a program."
      ],
      "metadata": {
        "id": "ecmzkkn7vv0s"
      }
    },
    {
      "cell_type": "code",
      "source": [
        "import time as t\n",
        "# Start time\n",
        "start_time = t.time()\n",
        "for i in range(5):\n",
        "    print(i)\n",
        "    t.sleep(1)  # some processing time\n",
        "\n",
        "# End time\n",
        "end_time = t.time()\n",
        "\n",
        "total_time = end_time - start_time#total time taken\n",
        "\n",
        "print(\"Total time taken by the program is:\", total_time,\"seconds\")"
      ],
      "metadata": {
        "colab": {
          "base_uri": "https://localhost:8080/"
        },
        "id": "zj-AMl3swIhW",
        "outputId": "28f8af5b-9dfd-4dbe-a154-8217c7ec46d3"
      },
      "execution_count": 54,
      "outputs": [
        {
          "output_type": "stream",
          "name": "stdout",
          "text": [
            "0\n",
            "1\n",
            "2\n",
            "3\n",
            "4\n",
            "Total time taken by the program is: 5.008995771408081 seconds\n"
          ]
        }
      ]
    }
  ]
}