{
  "nbformat": 4,
  "nbformat_minor": 0,
  "metadata": {
    "colab": {
      "provenance": [],
      "authorship_tag": "ABX9TyPdfpyN3pQ0vhLGPgm9MmTN",
      "include_colab_link": true
    },
    "kernelspec": {
      "name": "python3",
      "display_name": "Python 3"
    },
    "language_info": {
      "name": "python"
    }
  },
  "cells": [
    {
      "cell_type": "markdown",
      "metadata": {
        "id": "view-in-github",
        "colab_type": "text"
      },
      "source": [
        "<a href=\"https://colab.research.google.com/github/Niharika400/Assignment1.py/blob/main/Subsetselection.ipynb\" target=\"_parent\"><img src=\"https://colab.research.google.com/assets/colab-badge.svg\" alt=\"Open In Colab\"/></a>"
      ]
    },
    {
      "cell_type": "markdown",
      "source": [
        "**Subset Selection Problem"
      ],
      "metadata": {
        "id": "_lcA1zbDdzPw"
      }
    },
    {
      "cell_type": "markdown",
      "source": [
        "Q1.Find all the subsets from a set of numbers whose sum is zero.\n",
        "\n",
        "Constraint: Subset size must be 5\n",
        "\n",
        "Set={-12, -3, -6, 7, 2, -2, 6, 3, 9, -7, -5, -8, 1, 11, -9, -4}"
      ],
      "metadata": {
        "id": "TDV4ZJGad1NY"
      }
    },
    {
      "cell_type": "code",
      "source": [
        "import random as r\n",
        "Set= set([-12, -3, -6, 7, 2, -2, 6, 3, 9, -7, -5, -8, 1, 11, -9, -4])\n",
        "Setsize=5\n",
        "ResultList  = set()\n",
        "Iterations  = 1000\n",
        "\n",
        "for i in range(Iterations):\n",
        "  elements=r.sample(Set,Setsize)\n",
        "  if sum(elements)==0:\n",
        "    ResultList.add(tuple(elements))\n",
        "\n",
        "for r in ResultList:\n",
        "\tprint (r)\n",
        "\n",
        "print (\"\\nTotal Sets: \", len(ResultList))"
      ],
      "metadata": {
        "colab": {
          "base_uri": "https://localhost:8080/"
        },
        "id": "HsfjuVbFeBJR",
        "outputId": "07e90166-52cb-4627-c572-3c1160b0e65f"
      },
      "execution_count": 2,
      "outputs": [
        {
          "output_type": "stream",
          "name": "stdout",
          "text": [
            "(7, -3, -4, 9, -9)\n",
            "(-2, 9, -8, -5, 6)\n",
            "(3, 7, -12, -4, 6)\n",
            "(-3, 2, -4, -6, 11)\n",
            "(6, -6, 1, 11, -12)\n",
            "(11, 1, -6, -12, 6)\n",
            "(6, 3, -2, 2, -9)\n",
            "(11, -3, -12, 9, -5)\n",
            "(-4, 1, 6, 2, -5)\n",
            "(-7, -2, -3, 1, 11)\n",
            "(-6, 9, -2, -4, 3)\n",
            "(2, 3, -9, 6, -2)\n",
            "(-3, -8, 6, -4, 9)\n",
            "(-6, 7, -8, 1, 6)\n",
            "(-7, 9, 1, -9, 6)\n",
            "(7, 2, -2, -8, 1)\n",
            "(-5, 7, -2, -9, 9)\n",
            "(2, -3, -2, 9, -6)\n",
            "(3, 11, 1, -7, -8)\n",
            "(6, 3, -9, 7, -7)\n",
            "(-4, 1, 7, -6, 2)\n",
            "\n",
            "Total Sets:  21\n"
          ]
        },
        {
          "output_type": "stream",
          "name": "stderr",
          "text": [
            "<ipython-input-2-83d71c1362f8>:8: DeprecationWarning: Sampling from a set deprecated\n",
            "since Python 3.9 and will be removed in a subsequent version.\n",
            "  elements=r.sample(Set,Setsize)\n"
          ]
        }
      ]
    }
  ]
}